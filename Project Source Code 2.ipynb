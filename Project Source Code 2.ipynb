{
 "cells": [
  {
   "cell_type": "markdown",
   "id": "78e71d9e",
   "metadata": {
    "papermill": {
     "duration": 0.007534,
     "end_time": "2023-06-25T06:13:01.116187",
     "exception": false,
     "start_time": "2023-06-25T06:13:01.108653",
     "status": "completed"
    },
    "tags": []
   },
   "source": [
    "# **FIFA Data Analysis**"
   ]
  },
  {
   "cell_type": "markdown",
   "id": "a395c972",
   "metadata": {
    "papermill": {
     "duration": 0.00663,
     "end_time": "2023-06-25T06:13:01.129903",
     "exception": false,
     "start_time": "2023-06-25T06:13:01.123273",
     "status": "completed"
    },
    "tags": []
   },
   "source": [
    "During this data analysis, I had a few objectives to complete.\n",
    "\n",
    "The instructions were to create your a football club using the following guidelines:\n",
    "* My club doesn't have a team yet.\n",
    "* The team will need to hire players for the roster.\n",
    "* I must select the players using a data based approach.\n",
    "* I have to create a report to recommend 14-16 players for the roster.\n",
    "* Assume a budget for hiring players to be limmited.\n",
    "* The report has to help management/stakeholders in decision making."
   ]
  },
  {
   "cell_type": "markdown",
   "id": "d5f4aa70",
   "metadata": {
    "papermill": {
     "duration": 0.006522,
     "end_time": "2023-06-25T06:13:01.143402",
     "exception": false,
     "start_time": "2023-06-25T06:13:01.136880",
     "status": "completed"
    },
    "tags": []
   },
   "source": [
    "**I started by importing the pandas library.**"
   ]
  },
  {
   "cell_type": "code",
   "execution_count": 2,
   "id": "06c3b127",
   "metadata": {
    "execution": {
     "iopub.execute_input": "2023-06-25T06:13:01.159486Z",
     "iopub.status.busy": "2023-06-25T06:13:01.158769Z",
     "iopub.status.idle": "2023-06-25T06:13:01.170988Z",
     "shell.execute_reply": "2023-06-25T06:13:01.170187Z"
    },
    "papermill": {
     "duration": 0.022929,
     "end_time": "2023-06-25T06:13:01.173203",
     "exception": false,
     "start_time": "2023-06-25T06:13:01.150274",
     "status": "completed"
    },
    "tags": []
   },
   "outputs": [],
   "source": [
    "import pandas as pd"
   ]
  },
  {
   "cell_type": "markdown",
   "id": "063c7564",
   "metadata": {
    "papermill": {
     "duration": 0.006606,
     "end_time": "2023-06-25T06:13:01.186779",
     "exception": false,
     "start_time": "2023-06-25T06:13:01.180173",
     "status": "completed"
    },
    "tags": []
   },
   "source": [
    "**Then, I added in my dataset.**"
   ]
  },
  {
   "cell_type": "code",
   "execution_count": 3,
   "id": "7169c4d6",
   "metadata": {
    "execution": {
     "iopub.execute_input": "2023-06-25T06:13:01.204227Z",
     "iopub.status.busy": "2023-06-25T06:13:01.203452Z",
     "iopub.status.idle": "2023-06-25T06:13:01.491249Z",
     "shell.execute_reply": "2023-06-25T06:13:01.490169Z"
    },
    "papermill": {
     "duration": 0.298709,
     "end_time": "2023-06-25T06:13:01.494007",
     "exception": false,
     "start_time": "2023-06-25T06:13:01.195298",
     "status": "completed"
    },
    "tags": []
   },
   "outputs": [],
   "source": [
    "df = pd.read_csv('fifa_eda_stats.csv')"
   ]
  },
  {
   "cell_type": "markdown",
   "id": "f53a3d4c",
   "metadata": {
    "papermill": {
     "duration": 0.006728,
     "end_time": "2023-06-25T06:13:01.507677",
     "exception": false,
     "start_time": "2023-06-25T06:13:01.500949",
     "status": "completed"
    },
    "tags": []
   },
   "source": [
    "**Data Cleaning**\n",
    "\n",
    "I first removed the Loaned From column and players with no club. I assumed these to be irrelevant with little effect to the crucial data needed to form the best club within a reasonable budget."
   ]
  },
  {
   "cell_type": "code",
   "execution_count": 4,
   "id": "556789d7",
   "metadata": {
    "execution": {
     "iopub.execute_input": "2023-06-25T06:13:01.525257Z",
     "iopub.status.busy": "2023-06-25T06:13:01.522802Z",
     "iopub.status.idle": "2023-06-25T06:13:01.563439Z",
     "shell.execute_reply": "2023-06-25T06:13:01.562335Z"
    },
    "papermill": {
     "duration": 0.051518,
     "end_time": "2023-06-25T06:13:01.566089",
     "exception": false,
     "start_time": "2023-06-25T06:13:01.514571",
     "status": "completed"
    },
    "tags": []
   },
   "outputs": [],
   "source": [
    "# Remove Loaned From column since it only applies to a few records\n",
    "df.drop('Loaned From', axis=1, inplace=True)\n",
    "\n",
    "# Remove players with no club\n",
    "df.dropna(subset=['Club'], inplace=True)"
   ]
  },
  {
   "cell_type": "markdown",
   "id": "02fc1fa4",
   "metadata": {
    "papermill": {
     "duration": 0.006615,
     "end_time": "2023-06-25T06:13:01.579954",
     "exception": false,
     "start_time": "2023-06-25T06:13:01.573339",
     "status": "completed"
    },
    "tags": []
   },
   "source": [
    "I then cleaned the Value, Wage, and Release Clause columns to remove the euro symbol as well as any existing \"K\" and \"M\" in the cells indicating thousands or millions.\n",
    "\n",
    "Then, I converted the value type to a float."
   ]
  },
  {
   "cell_type": "code",
   "execution_count": 5,
   "id": "e1b502ab",
   "metadata": {
    "execution": {
     "iopub.execute_input": "2023-06-25T06:13:01.596063Z",
     "iopub.status.busy": "2023-06-25T06:13:01.595665Z",
     "iopub.status.idle": "2023-06-25T06:13:01.734323Z",
     "shell.execute_reply": "2023-06-25T06:13:01.733176Z"
    },
    "papermill": {
     "duration": 0.150215,
     "end_time": "2023-06-25T06:13:01.737147",
     "exception": false,
     "start_time": "2023-06-25T06:13:01.586932",
     "status": "completed"
    },
    "tags": []
   },
   "outputs": [],
   "source": [
    "# Clean € cells by removing special characters\n",
    "df['Value'] = df['Value'].str.replace('€', '')\n",
    "df['Wage'] = df['Wage'].str.replace('€', '')\n",
    "df['Release Clause'] = df['Release Clause'].str.replace('€', '')\n",
    "\n",
    "# Convert values to numeric\n",
    "df['Value'] = df['Value'].str.replace('K', 'e3').str.replace('M', 'e6').astype(float)\n",
    "df['Wage'] = df['Wage'].str.replace('K', 'e3').str.replace('M', 'e6').astype(float)\n",
    "df['Release Clause'] = df['Release Clause'].str.replace('K', 'e3').str.replace('M', 'e6').astype(float)"
   ]
  },
  {
   "cell_type": "markdown",
   "id": "1e4ed968",
   "metadata": {
    "papermill": {
     "duration": 0.007157,
     "end_time": "2023-06-25T06:13:01.751886",
     "exception": false,
     "start_time": "2023-06-25T06:13:01.744729",
     "status": "completed"
    },
    "tags": []
   },
   "source": [
    "Continuing this, I dropped any players that had nothing in the Value column, as these entries would be crucial to forming the team.\n",
    "\n",
    "I changed the height from feet and inches into inches. Though this was not necessary for my analysis, I decided to standardize the formatting of all cells. Similarly, I removed the \"lbs\" from all cells in the Weight column."
   ]
  },
  {
   "cell_type": "code",
   "execution_count": 6,
   "id": "5a270b70",
   "metadata": {
    "execution": {
     "iopub.execute_input": "2023-06-25T06:13:01.767852Z",
     "iopub.status.busy": "2023-06-25T06:13:01.767443Z",
     "iopub.status.idle": "2023-06-25T06:13:01.993653Z",
     "shell.execute_reply": "2023-06-25T06:13:01.992454Z"
    },
    "papermill": {
     "duration": 0.237313,
     "end_time": "2023-06-25T06:13:01.996448",
     "exception": false,
     "start_time": "2023-06-25T06:13:01.759135",
     "status": "completed"
    },
    "tags": []
   },
   "outputs": [],
   "source": [
    "# Drop players with no value\n",
    "df = df[df['Value'] != 0]\n",
    "\n",
    "# Height to inches\n",
    "height_split = df['Height'].str.split(\"'\", expand=True)\n",
    "feet = height_split[0].astype(float)\n",
    "inches = height_split[1].astype(float)\n",
    "df['Height'] = feet * 12 + inches\n",
    "df.dropna(subset=['Height'], inplace=True)  # Drop rows with missing height values\n",
    "\n",
    "# Fix weight to remove lbs\n",
    "df['Weight'] = df['Weight'].str.replace('lbs', '').astype(int)"
   ]
  },
  {
   "cell_type": "markdown",
   "id": "59b526b5",
   "metadata": {
    "papermill": {
     "duration": 0.006911,
     "end_time": "2023-06-25T06:13:02.010476",
     "exception": false,
     "start_time": "2023-06-25T06:13:02.003565",
     "status": "completed"
    },
    "tags": []
   },
   "source": [
    "**Player Selection**\n",
    "\n",
    "I used a few filters that I deemed necessary for my player selection.\n",
    "\n",
    "First, given that the objective is to hire a brand new roster for a new club, it makes sense to look for players under 30, as they are closer to their prime and would potentially have a longer future in the sport.\n",
    "\n",
    "Also, I removed duplicate entries."
   ]
  },
  {
   "cell_type": "code",
   "execution_count": 7,
   "id": "77c74e9b",
   "metadata": {
    "execution": {
     "iopub.execute_input": "2023-06-25T06:13:02.026979Z",
     "iopub.status.busy": "2023-06-25T06:13:02.026559Z",
     "iopub.status.idle": "2023-06-25T06:13:02.048949Z",
     "shell.execute_reply": "2023-06-25T06:13:02.047998Z"
    },
    "papermill": {
     "duration": 0.034125,
     "end_time": "2023-06-25T06:13:02.051589",
     "exception": false,
     "start_time": "2023-06-25T06:13:02.017464",
     "status": "completed"
    },
    "tags": []
   },
   "outputs": [],
   "source": [
    "# Filter players by age under 30\n",
    "df = df[df['Age'] < 30]\n",
    "\n",
    "# Remove duplicate entries based on ID\n",
    "df.drop_duplicates(subset='ID', keep='first', inplace=True)"
   ]
  },
  {
   "cell_type": "markdown",
   "id": "e0be7a71",
   "metadata": {
    "papermill": {
     "duration": 0.006826,
     "end_time": "2023-06-25T06:13:02.065498",
     "exception": false,
     "start_time": "2023-06-25T06:13:02.058672",
     "status": "completed"
    },
    "tags": []
   },
   "source": [
    "Then, I categorized and filtered the existing values for players' position by using broader categories than the specific positions allow."
   ]
  },
  {
   "cell_type": "code",
   "execution_count": 8,
   "id": "4e483a56",
   "metadata": {
    "execution": {
     "iopub.execute_input": "2023-06-25T06:13:02.081137Z",
     "iopub.status.busy": "2023-06-25T06:13:02.080704Z",
     "iopub.status.idle": "2023-06-25T06:13:02.118660Z",
     "shell.execute_reply": "2023-06-25T06:13:02.117473Z"
    },
    "papermill": {
     "duration": 0.048904,
     "end_time": "2023-06-25T06:13:02.121404",
     "exception": false,
     "start_time": "2023-06-25T06:13:02.072500",
     "status": "completed"
    },
    "tags": []
   },
   "outputs": [],
   "source": [
    "# Filter players\n",
    "goalkeepers = df[df['Position'].isin(['GK'])]\n",
    "center_backs = df[df['Position'].isin(['CB', 'LCB', 'RCB'])]\n",
    "full_backs = df[df['Position'].isin(['LB', 'RB', 'LWB', 'RWB'])]\n",
    "central_midfielders = df[df['Position'].isin(['CM', 'CDM'])]\n",
    "wing_midfielders = df[df['Position'].isin(['LM', 'RM', 'LCM', 'RCM', 'LDM', 'RDM'])]\n",
    "attacking_midfielders = df[df['Position'] == 'CAM']\n",
    "strikers = df[df['Position'].isin(['ST', 'LS', 'RS'])]\n",
    "wingers = df[df['Position'].isin(['LW', 'RW', 'LF', 'RF'])]"
   ]
  },
  {
   "cell_type": "markdown",
   "id": "f407d850",
   "metadata": {
    "papermill": {
     "duration": 0.006714,
     "end_time": "2023-06-25T06:13:02.135313",
     "exception": false,
     "start_time": "2023-06-25T06:13:02.128599",
     "status": "completed"
    },
    "tags": []
   },
   "source": [
    "I then decided on attributes that were most indicative of performance in each specific position, and sorted those values."
   ]
  },
  {
   "cell_type": "code",
   "execution_count": 9,
   "id": "8c8448db",
   "metadata": {
    "execution": {
     "iopub.execute_input": "2023-06-25T06:13:02.151079Z",
     "iopub.status.busy": "2023-06-25T06:13:02.150659Z",
     "iopub.status.idle": "2023-06-25T06:13:02.201948Z",
     "shell.execute_reply": "2023-06-25T06:13:02.200649Z"
    },
    "papermill": {
     "duration": 0.062382,
     "end_time": "2023-06-25T06:13:02.204669",
     "exception": false,
     "start_time": "2023-06-25T06:13:02.142287",
     "status": "completed"
    },
    "tags": []
   },
   "outputs": [],
   "source": [
    "# Rank players\n",
    "goalkeepers_ranked = goalkeepers.sort_values(by=['GKDiving', 'GKHandling', 'GKKicking', 'GKPositioning', 'GKReflexes', 'Strength', 'Jumping', 'Height', 'Reactions', 'ShortPassing', 'LongPassing'], ascending=False)\n",
    "center_backs_ranked = center_backs.sort_values(by=['HeadingAccuracy', 'Interceptions', 'Marking', 'StandingTackle', 'SlidingTackle', 'Strength', 'Jumping'], ascending=False)\n",
    "full_backs_ranked = full_backs.sort_values(by=['Crossing', 'Dribbling', 'Acceleration', 'SprintSpeed', 'Stamina', 'Interceptions', 'Marking', 'StandingTackle'], ascending=False)\n",
    "central_midfielders_ranked = central_midfielders.sort_values(by=['ShortPassing', 'LongPassing', 'Vision', 'BallControl', 'Stamina', 'Interceptions', 'Marking'], ascending=False)\n",
    "wing_midfielders_ranked = wing_midfielders.sort_values(by=['Dribbling', 'Crossing', 'Acceleration', 'SprintSpeed', 'Stamina', 'BallControl'], ascending=False)\n",
    "attacking_midfielders_ranked = attacking_midfielders.sort_values(by=['Vision', 'LongPassing', 'Dribbling', 'ShotPower', 'LongShots', 'Positioning', 'BallControl'], ascending=False)\n",
    "strikers_ranked = strikers.sort_values(by=['Finishing', 'HeadingAccuracy', 'Positioning', 'Acceleration', 'SprintSpeed', 'ShotPower', 'LongShots'], ascending=False)\n",
    "wingers_ranked = wingers.sort_values(by=['Dribbling', 'Crossing', 'Acceleration', 'SprintSpeed', 'Agility', 'BallControl', 'Finishing'], ascending=False)"
   ]
  },
  {
   "cell_type": "markdown",
   "id": "49375cb0",
   "metadata": {
    "papermill": {
     "duration": 0.006781,
     "end_time": "2023-06-25T06:13:02.218470",
     "exception": false,
     "start_time": "2023-06-25T06:13:02.211689",
     "status": "completed"
    },
    "tags": []
   },
   "source": [
    "I created a list to store my selected players then defined how many players in each position I wanted to for my selection."
   ]
  },
  {
   "cell_type": "code",
   "execution_count": 10,
   "id": "33ba4fcd",
   "metadata": {
    "execution": {
     "iopub.execute_input": "2023-06-25T06:13:02.234228Z",
     "iopub.status.busy": "2023-06-25T06:13:02.233774Z",
     "iopub.status.idle": "2023-06-25T06:13:02.240149Z",
     "shell.execute_reply": "2023-06-25T06:13:02.238979Z"
    },
    "papermill": {
     "duration": 0.017301,
     "end_time": "2023-06-25T06:13:02.242645",
     "exception": false,
     "start_time": "2023-06-25T06:13:02.225344",
     "status": "completed"
    },
    "tags": []
   },
   "outputs": [],
   "source": [
    "# Select players\n",
    "selected_players = []\n",
    "total_value = 0\n",
    "\n",
    "# Define desired number of players for each position\n",
    "desired_positions = {\n",
    "    'GK': 1,\n",
    "    'CB': 2,\n",
    "    'LB': 1,\n",
    "    'RB': 1,\n",
    "    'CM': 2,\n",
    "    'CDM': 1,\n",
    "    'LM': 1,\n",
    "    'RM': 1,\n",
    "    'CAM': 1,\n",
    "    'ST': 1,\n",
    "    'LW': 1,\n",
    "    'RW': 1\n",
    "}"
   ]
  },
  {
   "cell_type": "markdown",
   "id": "6a7e9bef",
   "metadata": {
    "papermill": {
     "duration": 0.006673,
     "end_time": "2023-06-25T06:13:02.256320",
     "exception": false,
     "start_time": "2023-06-25T06:13:02.249647",
     "status": "completed"
    },
    "tags": []
   },
   "source": [
    "I then used a for loop to select my players based on their Overall and the desired positions. I wanted to keep in mind the budget and used a limit of 6 millions euros."
   ]
  },
  {
   "cell_type": "code",
   "execution_count": 11,
   "id": "a56d3da1",
   "metadata": {
    "execution": {
     "iopub.execute_input": "2023-06-25T06:13:02.272082Z",
     "iopub.status.busy": "2023-06-25T06:13:02.271652Z",
     "iopub.status.idle": "2023-06-25T06:13:02.358193Z",
     "shell.execute_reply": "2023-06-25T06:13:02.356567Z"
    },
    "papermill": {
     "duration": 0.097553,
     "end_time": "2023-06-25T06:13:02.360879",
     "exception": false,
     "start_time": "2023-06-25T06:13:02.263326",
     "status": "completed"
    },
    "tags": []
   },
   "outputs": [],
   "source": [
    "# Select top players based on overall rating and position\n",
    "for position, count in desired_positions.items():\n",
    "    if position == 'GK':\n",
    "        position_players = goalkeepers_ranked\n",
    "    elif position == 'CB':\n",
    "        position_players = center_backs_ranked\n",
    "    elif position == 'LB' or position == 'RB':\n",
    "        position_players = full_backs_ranked\n",
    "    elif position == 'CM' or position == 'CDM':\n",
    "        position_players = central_midfielders_ranked\n",
    "    elif position == 'LM' or position == 'RM':\n",
    "        position_players = wing_midfielders_ranked\n",
    "    elif position == 'CAM':\n",
    "        position_players = attacking_midfielders_ranked\n",
    "    elif position == 'ST':\n",
    "        position_players = strikers_ranked\n",
    "    elif position == 'LW' or position == 'RW':\n",
    "        position_players = wingers_ranked\n",
    "    else:\n",
    "        position_players = pd.DataFrame()\n",
    "\n",
    "    for _, player in position_players.iterrows():\n",
    "        if total_value + player['Value'] <= 600000000.0 and count > 0 and player['ID'] not in selected_players:\n",
    "            selected_players.append(player['ID'])\n",
    "            total_value += player['Value']\n",
    "            count -= 1\n",
    "\n",
    "        if len(selected_players) >= 16 or count == 0:\n",
    "            break"
   ]
  },
  {
   "cell_type": "markdown",
   "id": "2f1ff886",
   "metadata": {
    "papermill": {
     "duration": 0.006646,
     "end_time": "2023-06-25T06:13:02.374586",
     "exception": false,
     "start_time": "2023-06-25T06:13:02.367940",
     "status": "completed"
    },
    "tags": []
   },
   "source": [
    "Then, I filtered my data frame to only include the selected players, calculated the total value of the roster, and printed my new team."
   ]
  },
  {
   "cell_type": "code",
   "execution_count": 12,
   "id": "173e67a1",
   "metadata": {
    "execution": {
     "iopub.execute_input": "2023-06-25T06:13:02.390537Z",
     "iopub.status.busy": "2023-06-25T06:13:02.390135Z",
     "iopub.status.idle": "2023-06-25T06:13:02.409593Z",
     "shell.execute_reply": "2023-06-25T06:13:02.408509Z"
    },
    "papermill": {
     "duration": 0.030782,
     "end_time": "2023-06-25T06:13:02.412237",
     "exception": false,
     "start_time": "2023-06-25T06:13:02.381455",
     "status": "completed"
    },
    "tags": []
   },
   "outputs": [
    {
     "name": "stdout",
     "output_type": "stream",
     "text": [
      "Total Budget: € 598100000.0\n",
      "        ID           Name  Age                     Club       Value  Overall\n",
      "1   193080         De Gea   27        Manchester United  72000000.0       91\n",
      "2   183277      E. Hazard   27                  Chelsea  93000000.0       91\n",
      "3   202126        H. Kane   24        Tottenham Hotspur  83500000.0       89\n",
      "4   190460     C. Eriksen   26        Tottenham Hotspur  73500000.0       88\n",
      "5   190483  Douglas Costa   27                 Juventus  46500000.0       86\n",
      "6   189509         Thiago   27        FC Bayern München  45500000.0       86\n",
      "7   180206      M. Pjanić   28                 Juventus  44000000.0       86\n",
      "8   184267     Y. Brahimi   28                 FC Porto  39000000.0       85\n",
      "9   205498       Jorginho   26                  Chelsea  38000000.0       84\n",
      "10  201956        S. Sané   27            FC Schalke 04  18500000.0       82\n",
      "11  186345    K. Trippier   27        Tottenham Hotspur  18500000.0       82\n",
      "12  212187         P. Max   24              FC Augsburg  11000000.0       78\n",
      "13  213956          Adama   22  Wolverhampton Wanderers  10500000.0       75\n",
      "14  215228        C. Lema   28               SL Benfica   4600000.0       74\n"
     ]
    }
   ],
   "source": [
    "selected_players_df = df[df['ID'].isin(selected_players)]\n",
    "\n",
    "# Calculate total budget\n",
    "total_budget = selected_players_df['Value'].sum()\n",
    "print(\"Total Budget: €\", total_budget)\n",
    "\n",
    "# Reset index and display selected players with the specified columns\n",
    "selected_players_df.reset_index(drop=True, inplace=True)\n",
    "columns_to_print = ['ID', 'Name', 'Age', 'Club', 'Value', 'Overall']\n",
    "selected_players_df.index += 1  # Start index from 1\n",
    "print(selected_players_df[columns_to_print])"
   ]
  },
  {
   "cell_type": "code",
   "execution_count": null,
   "id": "a2dc5ffc",
   "metadata": {},
   "outputs": [],
   "source": []
  },
  {
   "cell_type": "code",
   "execution_count": null,
   "id": "e61209f3",
   "metadata": {},
   "outputs": [],
   "source": []
  }
 ],
 "metadata": {
  "kernelspec": {
   "display_name": "Python 3 (ipykernel)",
   "language": "python",
   "name": "python3"
  },
  "language_info": {
   "codemirror_mode": {
    "name": "ipython",
    "version": 3
   },
   "file_extension": ".py",
   "mimetype": "text/x-python",
   "name": "python",
   "nbconvert_exporter": "python",
   "pygments_lexer": "ipython3",
   "version": "3.9.12"
  },
  "papermill": {
   "default_parameters": {},
   "duration": 14.165328,
   "end_time": "2023-06-25T06:13:03.243878",
   "environment_variables": {},
   "exception": null,
   "input_path": "__notebook__.ipynb",
   "output_path": "__notebook__.ipynb",
   "parameters": {},
   "start_time": "2023-06-25T06:12:49.078550",
   "version": "2.4.0"
  }
 },
 "nbformat": 4,
 "nbformat_minor": 5
}
